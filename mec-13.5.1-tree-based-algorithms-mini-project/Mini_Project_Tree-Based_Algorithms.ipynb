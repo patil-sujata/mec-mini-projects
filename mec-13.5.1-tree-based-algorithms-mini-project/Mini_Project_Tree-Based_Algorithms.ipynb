{
 "cells": [
  {
   "cell_type": "markdown",
   "metadata": {},
   "source": [
    "# Mini Project: Tree-Based Algorithms"
   ]
  },
  {
   "cell_type": "markdown",
   "metadata": {},
   "source": [
    "## The \"German Credit\" Dataset"
   ]
  },
  {
   "cell_type": "markdown",
   "metadata": {},
   "source": [
    "### Dataset Details"
   ]
  },
  {
   "cell_type": "markdown",
   "metadata": {},
   "source": [
    "This dataset has two classes (these would be considered labels in Machine Learning terms) to describe the worthiness of a personal loan: \"Good\" or \"Bad\". There are predictors related to attributes, such as: checking account status, duration, credit history, purpose of the loan, amount of the loan, savings accounts or bonds, employment duration, installment rate in percentage of disposable income, personal information, other debtors/guarantors, residence duration, property, age, other installment plans, housing, number of existing credits, job information, number of people being liable to provide maintenance for, telephone, and foreign worker status.\n",
    "\n",
    "Many of these predictors are discrete and have been expanded into several 0/1 indicator variables (a.k.a. they have been one-hot-encoded).\n",
    "\n",
    "This dataset has been kindly provided by Professor Dr. Hans Hofmann of the University of Hamburg, and can also be found on the UCI Machine Learning Repository."
   ]
  },
  {
   "cell_type": "markdown",
   "metadata": {},
   "source": [
    "\n",
    "\n",
    "\n"
   ]
  },
  {
   "cell_type": "markdown",
   "metadata": {},
   "source": [
    "## Decision Trees"
   ]
  },
  {
   "cell_type": "markdown",
   "metadata": {},
   "source": [
    " As we have learned in the previous lectures, Decision Trees as a family of algorithms (irrespective to the particular implementation) are powerful algorithms that can produce models with a predictive accuracy higher than that produced by linear models, such as Linear or Logistic Regression. Primarily, this is due to the fact the DT's can model nonlinear relationships, and also have a number of tuning paramters, that allow for the practicioner to achieve the best possible model. An added bonus is the ability to visualize the trained Decision Tree model, which allows for some insight into how the model has produced the predictions that it has. One caveat here, to keep in mind, is that sometimes, due to the size of the dataset (both in the sense of the number of records, as well as the number of features), the visualization might prove to be very large and complex, increasing the difficulty of interpretation."
   ]
  },
  {
   "cell_type": "markdown",
   "metadata": {},
   "source": [
    "To give you a very good example of how Decision Trees can be visualized and interpreted, we would strongly recommend that, before continuing on with solving the problems in this Mini Project, you take the time to read this fanstastic, detailed and informative blog post: http://explained.ai/decision-tree-viz/index.html"
   ]
  },
  {
   "cell_type": "markdown",
   "metadata": {},
   "source": [
    "## Building Your First Decision Tree Model"
   ]
  },
  {
   "cell_type": "markdown",
   "metadata": {},
   "source": [
    "So, now it's time to jump straight into the heart of the matter. Your first task, is to build a Decision Tree model, using the aforementioned \"German Credit\" dataset, which contains 1,000 records, and 62 columns (one of them presents the labels, and the other 61 present the potential features for the model.)"
   ]
  },
  {
   "cell_type": "markdown",
   "metadata": {},
   "source": [
    "For this task, you will be using the scikit-learn library, which comes already pre-installed with the Anaconda Python distribution. In case you're not using that, you can easily install it using pip."
   ]
  },
  {
   "cell_type": "markdown",
   "metadata": {},
   "source": [
    "Before embarking on creating your first model, we would strongly encourage you to read the short tutorial for Decision Trees in scikit-learn (http://scikit-learn.org/stable/modules/tree.html), and then dive a bit deeper into the documentation of the algorithm itself (http://scikit-learn.org/stable/modules/generated/sklearn.tree.DecisionTreeClassifier.html). "
   ]
  },
  {
   "cell_type": "markdown",
   "metadata": {},
   "source": [
    "Also, since you want to be able to present the results of your model, we suggest you take a look at the tutorial for accuracy metrics for classification models (http://scikit-learn.org/stable/modules/model_evaluation.html#classification-report) as well as the more detailed documentation (http://scikit-learn.org/stable/modules/generated/sklearn.metrics.classification_report.html).\n",
    "\n",
    "Finally, an *amazing* resource that explains the various classification model accuracy metrics, as well as the relationships between them, can be found on Wikipedia: https://en.wikipedia.org/wiki/Confusion_matrix"
   ]
  },
  {
   "cell_type": "markdown",
   "metadata": {},
   "source": [
    "(Note: as you've already learned in the Logistic Regression mini project, a standard practice in Machine Learning for achieving the best possible result when training a model is to use hyperparameter tuning, through Grid Search and k-fold Cross Validation. We strongly encourage you to use it here as well, not just because it's standard practice, but also becuase it's not going to be computationally to intensive, due to the size of the dataset that you're working with. Our suggestion here is that you split the data into 70% training, and 30% testing. Then, do the hyperparameter tuning and Cross Validation on the training set, and afterwards to a final test on the testing set.)"
   ]
  },
  {
   "cell_type": "markdown",
   "metadata": {},
   "source": [
    "### Now we pass the torch onto you! You can start building your first Decision Tree model! :)"
   ]
  },
  {
   "cell_type": "code",
   "execution_count": null,
   "metadata": {},
   "outputs": [],
   "source": [
    "import pandas as pd\n",
    "from sklearn.tree import DecisionTreeClassifier\n",
    "from sklearn.metrics import classification_report\n",
    "from sklearn.model_selection import train_test_split\n",
    "from sklearn.model_selection import GridSearchCV"
   ]
  },
  {
   "cell_type": "code",
   "execution_count": 26,
   "metadata": {
    "ExecuteTime": {
     "end_time": "2022-11-25T20:18:14.151909Z",
     "start_time": "2022-11-25T20:18:14.051265Z"
    }
   },
   "outputs": [
    {
     "data": {
      "text/plain": [
       "(1000, 62)"
      ]
     },
     "execution_count": 26,
     "metadata": {},
     "output_type": "execute_result"
    }
   ],
   "source": [
    "df_credit=pd.read_csv(\"GermanCredit.csv.zip\")\n",
    "df_credit.shape"
   ]
  },
  {
   "cell_type": "markdown",
   "metadata": {},
   "source": [
    "### After you've built the best model you can, now it's time to visualize it!"
   ]
  },
  {
   "cell_type": "code",
   "execution_count": 27,
   "metadata": {
    "ExecuteTime": {
     "end_time": "2022-11-25T20:18:20.190402Z",
     "start_time": "2022-11-25T20:18:20.144714Z"
    }
   },
   "outputs": [
    {
     "name": "stdout",
     "output_type": "stream",
     "text": [
      "<class 'pandas.core.frame.DataFrame'>\n",
      "RangeIndex: 1000 entries, 0 to 999\n",
      "Data columns (total 62 columns):\n",
      " #   Column                                  Non-Null Count  Dtype \n",
      "---  ------                                  --------------  ----- \n",
      " 0   Duration                                1000 non-null   int64 \n",
      " 1   Amount                                  1000 non-null   int64 \n",
      " 2   InstallmentRatePercentage               1000 non-null   int64 \n",
      " 3   ResidenceDuration                       1000 non-null   int64 \n",
      " 4   Age                                     1000 non-null   int64 \n",
      " 5   NumberExistingCredits                   1000 non-null   int64 \n",
      " 6   NumberPeopleMaintenance                 1000 non-null   int64 \n",
      " 7   Telephone                               1000 non-null   int64 \n",
      " 8   ForeignWorker                           1000 non-null   int64 \n",
      " 9   Class                                   1000 non-null   object\n",
      " 10  CheckingAccountStatus.lt.0              1000 non-null   int64 \n",
      " 11  CheckingAccountStatus.0.to.200          1000 non-null   int64 \n",
      " 12  CheckingAccountStatus.gt.200            1000 non-null   int64 \n",
      " 13  CheckingAccountStatus.none              1000 non-null   int64 \n",
      " 14  CreditHistory.NoCredit.AllPaid          1000 non-null   int64 \n",
      " 15  CreditHistory.ThisBank.AllPaid          1000 non-null   int64 \n",
      " 16  CreditHistory.PaidDuly                  1000 non-null   int64 \n",
      " 17  CreditHistory.Delay                     1000 non-null   int64 \n",
      " 18  CreditHistory.Critical                  1000 non-null   int64 \n",
      " 19  Purpose.NewCar                          1000 non-null   int64 \n",
      " 20  Purpose.UsedCar                         1000 non-null   int64 \n",
      " 21  Purpose.Furniture.Equipment             1000 non-null   int64 \n",
      " 22  Purpose.Radio.Television                1000 non-null   int64 \n",
      " 23  Purpose.DomesticAppliance               1000 non-null   int64 \n",
      " 24  Purpose.Repairs                         1000 non-null   int64 \n",
      " 25  Purpose.Education                       1000 non-null   int64 \n",
      " 26  Purpose.Vacation                        1000 non-null   int64 \n",
      " 27  Purpose.Retraining                      1000 non-null   int64 \n",
      " 28  Purpose.Business                        1000 non-null   int64 \n",
      " 29  Purpose.Other                           1000 non-null   int64 \n",
      " 30  SavingsAccountBonds.lt.100              1000 non-null   int64 \n",
      " 31  SavingsAccountBonds.100.to.500          1000 non-null   int64 \n",
      " 32  SavingsAccountBonds.500.to.1000         1000 non-null   int64 \n",
      " 33  SavingsAccountBonds.gt.1000             1000 non-null   int64 \n",
      " 34  SavingsAccountBonds.Unknown             1000 non-null   int64 \n",
      " 35  EmploymentDuration.lt.1                 1000 non-null   int64 \n",
      " 36  EmploymentDuration.1.to.4               1000 non-null   int64 \n",
      " 37  EmploymentDuration.4.to.7               1000 non-null   int64 \n",
      " 38  EmploymentDuration.gt.7                 1000 non-null   int64 \n",
      " 39  EmploymentDuration.Unemployed           1000 non-null   int64 \n",
      " 40  Personal.Male.Divorced.Seperated        1000 non-null   int64 \n",
      " 41  Personal.Female.NotSingle               1000 non-null   int64 \n",
      " 42  Personal.Male.Single                    1000 non-null   int64 \n",
      " 43  Personal.Male.Married.Widowed           1000 non-null   int64 \n",
      " 44  Personal.Female.Single                  1000 non-null   int64 \n",
      " 45  OtherDebtorsGuarantors.None             1000 non-null   int64 \n",
      " 46  OtherDebtorsGuarantors.CoApplicant      1000 non-null   int64 \n",
      " 47  OtherDebtorsGuarantors.Guarantor        1000 non-null   int64 \n",
      " 48  Property.RealEstate                     1000 non-null   int64 \n",
      " 49  Property.Insurance                      1000 non-null   int64 \n",
      " 50  Property.CarOther                       1000 non-null   int64 \n",
      " 51  Property.Unknown                        1000 non-null   int64 \n",
      " 52  OtherInstallmentPlans.Bank              1000 non-null   int64 \n",
      " 53  OtherInstallmentPlans.Stores            1000 non-null   int64 \n",
      " 54  OtherInstallmentPlans.None              1000 non-null   int64 \n",
      " 55  Housing.Rent                            1000 non-null   int64 \n",
      " 56  Housing.Own                             1000 non-null   int64 \n",
      " 57  Housing.ForFree                         1000 non-null   int64 \n",
      " 58  Job.UnemployedUnskilled                 1000 non-null   int64 \n",
      " 59  Job.UnskilledResident                   1000 non-null   int64 \n",
      " 60  Job.SkilledEmployee                     1000 non-null   int64 \n",
      " 61  Job.Management.SelfEmp.HighlyQualified  1000 non-null   int64 \n",
      "dtypes: int64(61), object(1)\n",
      "memory usage: 484.5+ KB\n"
     ]
    }
   ],
   "source": [
    "df_credit.info()"
   ]
  },
  {
   "cell_type": "markdown",
   "metadata": {},
   "source": [
    "Rememeber that amazing blog post from a few paragraphs ago, that demonstrated how to visualize and interpret the results of your Decision Tree model. We've seen that this can perform very well, but let's see how it does on the \"German Credit\" dataset that we're working on, due to it being a bit larger than the one used by the blog authors."
   ]
  },
  {
   "cell_type": "code",
   "execution_count": 28,
   "metadata": {
    "ExecuteTime": {
     "end_time": "2022-11-25T20:18:26.535386Z",
     "start_time": "2022-11-25T20:18:26.505469Z"
    }
   },
   "outputs": [
    {
     "data": {
      "text/html": [
       "<div>\n",
       "<style scoped>\n",
       "    .dataframe tbody tr th:only-of-type {\n",
       "        vertical-align: middle;\n",
       "    }\n",
       "\n",
       "    .dataframe tbody tr th {\n",
       "        vertical-align: top;\n",
       "    }\n",
       "\n",
       "    .dataframe thead th {\n",
       "        text-align: right;\n",
       "    }\n",
       "</style>\n",
       "<table border=\"1\" class=\"dataframe\">\n",
       "  <thead>\n",
       "    <tr style=\"text-align: right;\">\n",
       "      <th></th>\n",
       "      <th>Duration</th>\n",
       "      <th>Amount</th>\n",
       "      <th>InstallmentRatePercentage</th>\n",
       "      <th>ResidenceDuration</th>\n",
       "      <th>Age</th>\n",
       "      <th>NumberExistingCredits</th>\n",
       "      <th>NumberPeopleMaintenance</th>\n",
       "      <th>Telephone</th>\n",
       "      <th>ForeignWorker</th>\n",
       "      <th>Class</th>\n",
       "      <th>...</th>\n",
       "      <th>OtherInstallmentPlans.Bank</th>\n",
       "      <th>OtherInstallmentPlans.Stores</th>\n",
       "      <th>OtherInstallmentPlans.None</th>\n",
       "      <th>Housing.Rent</th>\n",
       "      <th>Housing.Own</th>\n",
       "      <th>Housing.ForFree</th>\n",
       "      <th>Job.UnemployedUnskilled</th>\n",
       "      <th>Job.UnskilledResident</th>\n",
       "      <th>Job.SkilledEmployee</th>\n",
       "      <th>Job.Management.SelfEmp.HighlyQualified</th>\n",
       "    </tr>\n",
       "  </thead>\n",
       "  <tbody>\n",
       "    <tr>\n",
       "      <th>0</th>\n",
       "      <td>6</td>\n",
       "      <td>1169</td>\n",
       "      <td>4</td>\n",
       "      <td>4</td>\n",
       "      <td>67</td>\n",
       "      <td>2</td>\n",
       "      <td>1</td>\n",
       "      <td>0</td>\n",
       "      <td>1</td>\n",
       "      <td>Good</td>\n",
       "      <td>...</td>\n",
       "      <td>0</td>\n",
       "      <td>0</td>\n",
       "      <td>1</td>\n",
       "      <td>0</td>\n",
       "      <td>1</td>\n",
       "      <td>0</td>\n",
       "      <td>0</td>\n",
       "      <td>0</td>\n",
       "      <td>1</td>\n",
       "      <td>0</td>\n",
       "    </tr>\n",
       "    <tr>\n",
       "      <th>1</th>\n",
       "      <td>48</td>\n",
       "      <td>5951</td>\n",
       "      <td>2</td>\n",
       "      <td>2</td>\n",
       "      <td>22</td>\n",
       "      <td>1</td>\n",
       "      <td>1</td>\n",
       "      <td>1</td>\n",
       "      <td>1</td>\n",
       "      <td>Bad</td>\n",
       "      <td>...</td>\n",
       "      <td>0</td>\n",
       "      <td>0</td>\n",
       "      <td>1</td>\n",
       "      <td>0</td>\n",
       "      <td>1</td>\n",
       "      <td>0</td>\n",
       "      <td>0</td>\n",
       "      <td>0</td>\n",
       "      <td>1</td>\n",
       "      <td>0</td>\n",
       "    </tr>\n",
       "    <tr>\n",
       "      <th>2</th>\n",
       "      <td>12</td>\n",
       "      <td>2096</td>\n",
       "      <td>2</td>\n",
       "      <td>3</td>\n",
       "      <td>49</td>\n",
       "      <td>1</td>\n",
       "      <td>2</td>\n",
       "      <td>1</td>\n",
       "      <td>1</td>\n",
       "      <td>Good</td>\n",
       "      <td>...</td>\n",
       "      <td>0</td>\n",
       "      <td>0</td>\n",
       "      <td>1</td>\n",
       "      <td>0</td>\n",
       "      <td>1</td>\n",
       "      <td>0</td>\n",
       "      <td>0</td>\n",
       "      <td>1</td>\n",
       "      <td>0</td>\n",
       "      <td>0</td>\n",
       "    </tr>\n",
       "    <tr>\n",
       "      <th>3</th>\n",
       "      <td>42</td>\n",
       "      <td>7882</td>\n",
       "      <td>2</td>\n",
       "      <td>4</td>\n",
       "      <td>45</td>\n",
       "      <td>1</td>\n",
       "      <td>2</td>\n",
       "      <td>1</td>\n",
       "      <td>1</td>\n",
       "      <td>Good</td>\n",
       "      <td>...</td>\n",
       "      <td>0</td>\n",
       "      <td>0</td>\n",
       "      <td>1</td>\n",
       "      <td>0</td>\n",
       "      <td>0</td>\n",
       "      <td>1</td>\n",
       "      <td>0</td>\n",
       "      <td>0</td>\n",
       "      <td>1</td>\n",
       "      <td>0</td>\n",
       "    </tr>\n",
       "    <tr>\n",
       "      <th>4</th>\n",
       "      <td>24</td>\n",
       "      <td>4870</td>\n",
       "      <td>3</td>\n",
       "      <td>4</td>\n",
       "      <td>53</td>\n",
       "      <td>2</td>\n",
       "      <td>2</td>\n",
       "      <td>1</td>\n",
       "      <td>1</td>\n",
       "      <td>Bad</td>\n",
       "      <td>...</td>\n",
       "      <td>0</td>\n",
       "      <td>0</td>\n",
       "      <td>1</td>\n",
       "      <td>0</td>\n",
       "      <td>0</td>\n",
       "      <td>1</td>\n",
       "      <td>0</td>\n",
       "      <td>0</td>\n",
       "      <td>1</td>\n",
       "      <td>0</td>\n",
       "    </tr>\n",
       "  </tbody>\n",
       "</table>\n",
       "<p>5 rows × 62 columns</p>\n",
       "</div>"
      ],
      "text/plain": [
       "   Duration  Amount  InstallmentRatePercentage  ResidenceDuration  Age  \\\n",
       "0         6    1169                          4                  4   67   \n",
       "1        48    5951                          2                  2   22   \n",
       "2        12    2096                          2                  3   49   \n",
       "3        42    7882                          2                  4   45   \n",
       "4        24    4870                          3                  4   53   \n",
       "\n",
       "   NumberExistingCredits  NumberPeopleMaintenance  Telephone  ForeignWorker  \\\n",
       "0                      2                        1          0              1   \n",
       "1                      1                        1          1              1   \n",
       "2                      1                        2          1              1   \n",
       "3                      1                        2          1              1   \n",
       "4                      2                        2          1              1   \n",
       "\n",
       "  Class  ...  OtherInstallmentPlans.Bank  OtherInstallmentPlans.Stores  \\\n",
       "0  Good  ...                           0                             0   \n",
       "1   Bad  ...                           0                             0   \n",
       "2  Good  ...                           0                             0   \n",
       "3  Good  ...                           0                             0   \n",
       "4   Bad  ...                           0                             0   \n",
       "\n",
       "   OtherInstallmentPlans.None  Housing.Rent  Housing.Own  Housing.ForFree  \\\n",
       "0                           1             0            1                0   \n",
       "1                           1             0            1                0   \n",
       "2                           1             0            1                0   \n",
       "3                           1             0            0                1   \n",
       "4                           1             0            0                1   \n",
       "\n",
       "   Job.UnemployedUnskilled  Job.UnskilledResident  Job.SkilledEmployee  \\\n",
       "0                        0                      0                    1   \n",
       "1                        0                      0                    1   \n",
       "2                        0                      1                    0   \n",
       "3                        0                      0                    1   \n",
       "4                        0                      0                    1   \n",
       "\n",
       "   Job.Management.SelfEmp.HighlyQualified  \n",
       "0                                       0  \n",
       "1                                       0  \n",
       "2                                       0  \n",
       "3                                       0  \n",
       "4                                       0  \n",
       "\n",
       "[5 rows x 62 columns]"
      ]
     },
     "execution_count": 28,
     "metadata": {},
     "output_type": "execute_result"
    }
   ],
   "source": [
    "df_credit.head()"
   ]
  },
  {
   "cell_type": "markdown",
   "metadata": {},
   "source": [
    "First, we're going to need to install their package. If you're using Anaconda, this can be done easily by running:"
   ]
  },
  {
   "cell_type": "code",
   "execution_count": 29,
   "metadata": {
    "ExecuteTime": {
     "end_time": "2022-11-25T20:18:28.932960Z",
     "start_time": "2022-11-25T20:18:28.911017Z"
    }
   },
   "outputs": [],
   "source": [
    "df_credit[\"Class\"]=df_credit[\"Class\"].map({\"Good\":1,\"Bad\":0})"
   ]
  },
  {
   "cell_type": "code",
   "execution_count": 33,
   "metadata": {
    "ExecuteTime": {
     "end_time": "2022-11-25T20:20:34.498525Z",
     "start_time": "2022-11-25T20:20:34.478579Z"
    }
   },
   "outputs": [
    {
     "data": {
      "text/html": [
       "<div>\n",
       "<style scoped>\n",
       "    .dataframe tbody tr th:only-of-type {\n",
       "        vertical-align: middle;\n",
       "    }\n",
       "\n",
       "    .dataframe tbody tr th {\n",
       "        vertical-align: top;\n",
       "    }\n",
       "\n",
       "    .dataframe thead th {\n",
       "        text-align: right;\n",
       "    }\n",
       "</style>\n",
       "<table border=\"1\" class=\"dataframe\">\n",
       "  <thead>\n",
       "    <tr style=\"text-align: right;\">\n",
       "      <th></th>\n",
       "      <th>Duration</th>\n",
       "      <th>Amount</th>\n",
       "      <th>InstallmentRatePercentage</th>\n",
       "      <th>ResidenceDuration</th>\n",
       "      <th>Age</th>\n",
       "      <th>NumberExistingCredits</th>\n",
       "      <th>NumberPeopleMaintenance</th>\n",
       "      <th>Telephone</th>\n",
       "      <th>ForeignWorker</th>\n",
       "      <th>Class</th>\n",
       "      <th>...</th>\n",
       "      <th>OtherInstallmentPlans.Bank</th>\n",
       "      <th>OtherInstallmentPlans.Stores</th>\n",
       "      <th>OtherInstallmentPlans.None</th>\n",
       "      <th>Housing.Rent</th>\n",
       "      <th>Housing.Own</th>\n",
       "      <th>Housing.ForFree</th>\n",
       "      <th>Job.UnemployedUnskilled</th>\n",
       "      <th>Job.UnskilledResident</th>\n",
       "      <th>Job.SkilledEmployee</th>\n",
       "      <th>Job.Management.SelfEmp.HighlyQualified</th>\n",
       "    </tr>\n",
       "  </thead>\n",
       "  <tbody>\n",
       "    <tr>\n",
       "      <th>0</th>\n",
       "      <td>6</td>\n",
       "      <td>1169</td>\n",
       "      <td>4</td>\n",
       "      <td>4</td>\n",
       "      <td>67</td>\n",
       "      <td>2</td>\n",
       "      <td>1</td>\n",
       "      <td>0</td>\n",
       "      <td>1</td>\n",
       "      <td>1</td>\n",
       "      <td>...</td>\n",
       "      <td>0</td>\n",
       "      <td>0</td>\n",
       "      <td>1</td>\n",
       "      <td>0</td>\n",
       "      <td>1</td>\n",
       "      <td>0</td>\n",
       "      <td>0</td>\n",
       "      <td>0</td>\n",
       "      <td>1</td>\n",
       "      <td>0</td>\n",
       "    </tr>\n",
       "    <tr>\n",
       "      <th>1</th>\n",
       "      <td>48</td>\n",
       "      <td>5951</td>\n",
       "      <td>2</td>\n",
       "      <td>2</td>\n",
       "      <td>22</td>\n",
       "      <td>1</td>\n",
       "      <td>1</td>\n",
       "      <td>1</td>\n",
       "      <td>1</td>\n",
       "      <td>0</td>\n",
       "      <td>...</td>\n",
       "      <td>0</td>\n",
       "      <td>0</td>\n",
       "      <td>1</td>\n",
       "      <td>0</td>\n",
       "      <td>1</td>\n",
       "      <td>0</td>\n",
       "      <td>0</td>\n",
       "      <td>0</td>\n",
       "      <td>1</td>\n",
       "      <td>0</td>\n",
       "    </tr>\n",
       "    <tr>\n",
       "      <th>2</th>\n",
       "      <td>12</td>\n",
       "      <td>2096</td>\n",
       "      <td>2</td>\n",
       "      <td>3</td>\n",
       "      <td>49</td>\n",
       "      <td>1</td>\n",
       "      <td>2</td>\n",
       "      <td>1</td>\n",
       "      <td>1</td>\n",
       "      <td>1</td>\n",
       "      <td>...</td>\n",
       "      <td>0</td>\n",
       "      <td>0</td>\n",
       "      <td>1</td>\n",
       "      <td>0</td>\n",
       "      <td>1</td>\n",
       "      <td>0</td>\n",
       "      <td>0</td>\n",
       "      <td>1</td>\n",
       "      <td>0</td>\n",
       "      <td>0</td>\n",
       "    </tr>\n",
       "  </tbody>\n",
       "</table>\n",
       "<p>3 rows × 62 columns</p>\n",
       "</div>"
      ],
      "text/plain": [
       "   Duration  Amount  InstallmentRatePercentage  ResidenceDuration  Age  \\\n",
       "0         6    1169                          4                  4   67   \n",
       "1        48    5951                          2                  2   22   \n",
       "2        12    2096                          2                  3   49   \n",
       "\n",
       "   NumberExistingCredits  NumberPeopleMaintenance  Telephone  ForeignWorker  \\\n",
       "0                      2                        1          0              1   \n",
       "1                      1                        1          1              1   \n",
       "2                      1                        2          1              1   \n",
       "\n",
       "   Class  ...  OtherInstallmentPlans.Bank  OtherInstallmentPlans.Stores  \\\n",
       "0      1  ...                           0                             0   \n",
       "1      0  ...                           0                             0   \n",
       "2      1  ...                           0                             0   \n",
       "\n",
       "   OtherInstallmentPlans.None  Housing.Rent  Housing.Own  Housing.ForFree  \\\n",
       "0                           1             0            1                0   \n",
       "1                           1             0            1                0   \n",
       "2                           1             0            1                0   \n",
       "\n",
       "   Job.UnemployedUnskilled  Job.UnskilledResident  Job.SkilledEmployee  \\\n",
       "0                        0                      0                    1   \n",
       "1                        0                      0                    1   \n",
       "2                        0                      1                    0   \n",
       "\n",
       "   Job.Management.SelfEmp.HighlyQualified  \n",
       "0                                       0  \n",
       "1                                       0  \n",
       "2                                       0  \n",
       "\n",
       "[3 rows x 62 columns]"
      ]
     },
     "execution_count": 33,
     "metadata": {},
     "output_type": "execute_result"
    }
   ],
   "source": [
    "df_credit.head(3)"
   ]
  },
  {
   "cell_type": "code",
   "execution_count": 30,
   "metadata": {
    "ExecuteTime": {
     "end_time": "2022-11-25T20:18:31.514836Z",
     "start_time": "2022-11-25T20:18:31.490859Z"
    }
   },
   "outputs": [
    {
     "data": {
      "text/plain": [
       "(1000, 61)"
      ]
     },
     "execution_count": 30,
     "metadata": {},
     "output_type": "execute_result"
    }
   ],
   "source": [
    "X=df_credit.copy()\n",
    "Y=X.pop(\"Class\")\n",
    "X.shape"
   ]
  },
  {
   "cell_type": "code",
   "execution_count": 31,
   "metadata": {
    "ExecuteTime": {
     "end_time": "2022-11-25T20:18:34.412224Z",
     "start_time": "2022-11-25T20:18:34.372355Z"
    }
   },
   "outputs": [],
   "source": [
    "# now split in training and testing\n",
    "train_x,test_x,train_y,test_y=train_test_split(X,Y, test_size=0.3, random_state=1010)"
   ]
  },
  {
   "cell_type": "code",
   "execution_count": 35,
   "metadata": {
    "ExecuteTime": {
     "end_time": "2022-11-25T20:23:04.483384Z",
     "start_time": "2022-11-25T20:23:04.446570Z"
    }
   },
   "outputs": [
    {
     "name": "stdout",
     "output_type": "stream",
     "text": [
      "The accuracy of decision tree in predicting cancer diagnosis is:  0.68\n"
     ]
    }
   ],
   "source": [
    "from sklearn import metrics\n",
    "model_dt=DecisionTreeClassifier(max_depth=7, random_state=1010)\n",
    "model_dt=model_dt.fit(train_x,train_y)\n",
    "pred_dt=model_dt.predict(test_x)\n",
    "\n",
    "print(\"The accuracy of decision tree in predicting cancer diagnosis is: \", \n",
    "      round(metrics.accuracy_score(pred_dt, test_y),2))"
   ]
  },
  {
   "cell_type": "markdown",
   "metadata": {},
   "source": [
    "Now you're ready to visualize your Decision Tree model! Please feel free to use the blog post for guidance and inspiration!"
   ]
  },
  {
   "cell_type": "code",
   "execution_count": 36,
   "metadata": {
    "ExecuteTime": {
     "end_time": "2022-11-25T20:27:39.306035Z",
     "start_time": "2022-11-25T20:27:18.378360Z"
    }
   },
   "outputs": [
    {
     "name": "stdout",
     "output_type": "stream",
     "text": [
      "Collecting dtreeviz\n",
      "  Downloading dtreeviz-1.4.0-py3-none-any.whl (72 kB)\n",
      "Requirement already satisfied: scikit-learn in c:\\software\\anaconda3\\lib\\site-packages (from dtreeviz) (1.0.2)\n",
      "Collecting graphviz>=0.9\n",
      "  Downloading graphviz-0.20.1-py3-none-any.whl (47 kB)\n",
      "Requirement already satisfied: pytest in c:\\software\\anaconda3\\lib\\site-packages (from dtreeviz) (7.1.1)\n",
      "Requirement already satisfied: numpy in c:\\software\\anaconda3\\lib\\site-packages (from dtreeviz) (1.21.5)\n",
      "Requirement already satisfied: matplotlib in c:\\software\\anaconda3\\lib\\site-packages (from dtreeviz) (3.5.1)\n",
      "Collecting colour\n",
      "  Downloading colour-0.1.5-py2.py3-none-any.whl (23 kB)\n",
      "Requirement already satisfied: pandas in c:\\software\\anaconda3\\lib\\site-packages (from dtreeviz) (1.4.2)\n",
      "Requirement already satisfied: pillow>=6.2.0 in c:\\software\\anaconda3\\lib\\site-packages (from matplotlib->dtreeviz) (9.0.1)\n",
      "Requirement already satisfied: packaging>=20.0 in c:\\software\\anaconda3\\lib\\site-packages (from matplotlib->dtreeviz) (21.3)\n",
      "Requirement already satisfied: python-dateutil>=2.7 in c:\\software\\anaconda3\\lib\\site-packages (from matplotlib->dtreeviz) (2.8.2)\n",
      "Requirement already satisfied: pyparsing>=2.2.1 in c:\\software\\anaconda3\\lib\\site-packages (from matplotlib->dtreeviz) (3.0.4)\n",
      "Requirement already satisfied: kiwisolver>=1.0.1 in c:\\software\\anaconda3\\lib\\site-packages (from matplotlib->dtreeviz) (1.3.2)\n",
      "Requirement already satisfied: cycler>=0.10 in c:\\software\\anaconda3\\lib\\site-packages (from matplotlib->dtreeviz) (0.11.0)\n",
      "Requirement already satisfied: fonttools>=4.22.0 in c:\\software\\anaconda3\\lib\\site-packages (from matplotlib->dtreeviz) (4.25.0)\n",
      "Requirement already satisfied: six>=1.5 in c:\\software\\anaconda3\\lib\\site-packages (from python-dateutil>=2.7->matplotlib->dtreeviz) (1.16.0)\n",
      "Requirement already satisfied: pytz>=2020.1 in c:\\software\\anaconda3\\lib\\site-packages (from pandas->dtreeviz) (2021.3)\n",
      "Requirement already satisfied: attrs>=19.2.0 in c:\\software\\anaconda3\\lib\\site-packages (from pytest->dtreeviz) (21.4.0)\n",
      "Requirement already satisfied: iniconfig in c:\\software\\anaconda3\\lib\\site-packages (from pytest->dtreeviz) (1.1.1)\n",
      "Requirement already satisfied: pluggy<2.0,>=0.12 in c:\\software\\anaconda3\\lib\\site-packages (from pytest->dtreeviz) (1.0.0)\n",
      "Requirement already satisfied: py>=1.8.2 in c:\\software\\anaconda3\\lib\\site-packages (from pytest->dtreeviz) (1.11.0)\n",
      "Requirement already satisfied: tomli>=1.0.0 in c:\\software\\anaconda3\\lib\\site-packages (from pytest->dtreeviz) (1.2.2)\n",
      "Requirement already satisfied: atomicwrites>=1.0 in c:\\software\\anaconda3\\lib\\site-packages (from pytest->dtreeviz) (1.4.0)\n",
      "Requirement already satisfied: colorama in c:\\software\\anaconda3\\lib\\site-packages (from pytest->dtreeviz) (0.4.4)\n",
      "Requirement already satisfied: scipy>=1.1.0 in c:\\software\\anaconda3\\lib\\site-packages (from scikit-learn->dtreeviz) (1.7.3)\n",
      "Requirement already satisfied: joblib>=0.11 in c:\\software\\anaconda3\\lib\\site-packages (from scikit-learn->dtreeviz) (1.1.0)\n",
      "Requirement already satisfied: threadpoolctl>=2.0.0 in c:\\software\\anaconda3\\lib\\site-packages (from scikit-learn->dtreeviz) (2.2.0)\n",
      "Installing collected packages: graphviz, colour, dtreeviz\n",
      "Successfully installed colour-0.1.5 dtreeviz-1.4.0 graphviz-0.20.1\n",
      "Collecting pydotplus\n",
      "  Downloading pydotplus-2.0.2.tar.gz (278 kB)\n",
      "Requirement already satisfied: pyparsing>=2.0.1 in c:\\software\\anaconda3\\lib\\site-packages (from pydotplus) (3.0.4)\n",
      "Building wheels for collected packages: pydotplus\n",
      "  Building wheel for pydotplus (setup.py): started\n",
      "  Building wheel for pydotplus (setup.py): finished with status 'done'\n",
      "  Created wheel for pydotplus: filename=pydotplus-2.0.2-py3-none-any.whl size=24575 sha256=4077005aa2c3b3229bec93f111326026e87f4b2f6db7109c77688fc5bd20defa\n",
      "  Stored in directory: c:\\users\\sujata\\appdata\\local\\pip\\cache\\wheels\\89\\e5\\de\\6966007cf223872eedfbebbe0e074534e72e9128c8fd4b55eb\n",
      "Successfully built pydotplus\n",
      "Installing collected packages: pydotplus\n",
      "Successfully installed pydotplus-2.0.2\n"
     ]
    }
   ],
   "source": [
    "# Your code here! :)\n",
    "! pip install dtreeviz\n",
    "!pip install pydotplus"
   ]
  },
  {
   "cell_type": "markdown",
   "metadata": {},
   "source": [
    "## Random Forests"
   ]
  },
  {
   "cell_type": "markdown",
   "metadata": {},
   "source": [
    "As discussed in the lecture videos, Decision Tree algorithms also have certain undesireable properties. Mainly the have low bias, which is good, but tend to have high variance - which is *not* so good (more about this problem here: https://en.wikipedia.org/wiki/Bias%E2%80%93variance_tradeoff)."
   ]
  },
  {
   "cell_type": "markdown",
   "metadata": {},
   "source": [
    "Noticing these problems, the late Professor Leo Breiman, in 2001, developed the Random Forests algorithm, which mitigates these problems, while at the same time providing even higher predictive accuracy than the majority of Decision Tree algorithm implementations. While the curriculum contains two excellent lectures on Random Forests, if you're interested, you can dive into the original paper here: https://link.springer.com/content/pdf/10.1023%2FA%3A1010933404324.pdf."
   ]
  },
  {
   "cell_type": "markdown",
   "metadata": {},
   "source": [
    "In the next part of this assignment, your are going to use the same \"German Credit\" dataset to train, tune, and measure the performance of a Random Forests model. You will also see certain functionalities that this model, even though it's a bit of a \"black box\", provides for some degree of interpretability."
   ]
  },
  {
   "cell_type": "markdown",
   "metadata": {},
   "source": [
    "First, let's build a Random Forests model, using the same best practices that you've used for your Decision Trees model. You can reuse the things you've already imported there, so no need to do any re-imports, new train/test splits, or loading up the data again."
   ]
  },
  {
   "cell_type": "code",
   "execution_count": 38,
   "metadata": {
    "ExecuteTime": {
     "end_time": "2022-11-25T20:29:36.617163Z",
     "start_time": "2022-11-25T20:29:36.299080Z"
    }
   },
   "outputs": [],
   "source": [
    "from sklearn.ensemble import RandomForestClassifier"
   ]
  },
  {
   "cell_type": "code",
   "execution_count": 39,
   "metadata": {
    "ExecuteTime": {
     "end_time": "2022-11-25T20:29:38.786158Z",
     "start_time": "2022-11-25T20:29:38.733202Z"
    }
   },
   "outputs": [
    {
     "name": "stdout",
     "output_type": "stream",
     "text": [
      "The accuracy of randomforest tree in predicting cancer diagnosis is:  0.75\n"
     ]
    }
   ],
   "source": [
    "model_rf=RandomForestClassifier(n_estimators=15)\n",
    "model_rf=model_rf.fit(train_x,train_y)\n",
    "pred_rf=model_rf.predict(test_x)\n",
    "print(\"The accuracy of randomforest tree in predicting cancer diagnosis is: \", \n",
    "      round(metrics.accuracy_score(pred_rf, test_y),2))"
   ]
  },
  {
   "cell_type": "markdown",
   "metadata": {},
   "source": [
    "As mentioned, there are certain ways to \"peek\" into a model created by the Random Forests algorithm. The first, and most popular one, is the Feature Importance calculation functionality. This allows the ML practitioner to see an ordering of the importance of the features that have contributed the most to the predictive accuracy of the model. \n",
    "\n",
    "You can see how to use this in the scikit-learn documentation (http://scikit-learn.org/stable/modules/generated/sklearn.ensemble.RandomForestClassifier.html#sklearn.ensemble.RandomForestClassifier.feature_importances_). Now, if you tried this, you would just get an ordered table of not directly interpretable numeric values. Thus, it's much more useful to show the feature importance in a visual way. You can see an example of how that's done here: http://scikit-learn.org/stable/auto_examples/ensemble/plot_forest_importances.html#sphx-glr-auto-examples-ensemble-plot-forest-importances-py\n",
    "\n",
    "Now you try! Let's visualize the importance of features from your Random Forests model!"
   ]
  },
  {
   "cell_type": "code",
   "execution_count": 42,
   "metadata": {
    "ExecuteTime": {
     "end_time": "2022-11-25T20:37:55.874789Z",
     "start_time": "2022-11-25T20:37:52.712232Z"
    }
   },
   "outputs": [
    {
     "data": {
      "text/plain": [
       "<AxesSubplot:>"
      ]
     },
     "execution_count": 42,
     "metadata": {},
     "output_type": "execute_result"
    },
    {
     "data": {
      "image/png": "[encoded data removed]",
      "text/plain": [
       "<Figure size 576x432 with 1 Axes>"
      ]
     },
     "metadata": {
      "needs_background": "light"
     },
     "output_type": "display_data"
    }
   ],
   "source": [
    "df_imp_features = pd.DataFrame(model_rf.feature_importances_, index=X.columns, columns=[\"Importance\"])\n",
    "df_imp_features.sort_values(by='Importance', ascending=False, inplace=True)\n",
    "df_imp_features.plot(kind='bar', figsize=(8,6))"
   ]
  },
  {
   "cell_type": "markdown",
   "metadata": {},
   "source": [
    "A final method for gaining some insight into the inner working of your Random Forests models is a so-called Partial Dependence Plot. The Partial Dependence Plot (PDP or PD plot) shows the marginal effect of a feature on the predicted outcome of a previously fit model. The prediction function is fixed at a few values of the chosen features and averaged over the other features. A partial dependence plot can show if the relationship between the target and a feature is linear, monotonic or more complex. \n",
    "\n",
    "In scikit-learn, PDPs are implemented and available for certain algorithms, but at this point (version 0.20.0) they are not yet implemented for Random Forests. Thankfully, there is an add-on package called **PDPbox** (https://pdpbox.readthedocs.io/en/latest/) which adds this functionality to Random Forests. The package is easy to install through pip."
   ]
  },
  {
   "cell_type": "code",
   "execution_count": 44,
   "metadata": {
    "ExecuteTime": {
     "end_time": "2022-11-25T20:41:14.420728Z",
     "start_time": "2022-11-25T20:40:42.137010Z"
    }
   },
   "outputs": [
    {
     "name": "stdout",
     "output_type": "stream",
     "text": [
      "Collecting pdpbox\n"
     ]
    },
    {
     "name": "stderr",
     "output_type": "stream",
     "text": [
      "WARNING: Ignoring invalid distribution -atplotlib (c:\\software\\anaconda3\\lib\\site-packages)\n",
      "WARNING: Ignoring invalid distribution -atplotlib (c:\\software\\anaconda3\\lib\\site-packages)\n",
      "  ERROR: Command errored out with exit status 1:\n",
      "   command: 'C:\\software\\anaconda3\\python.exe' -u -c 'import io, os, sys, setuptools, tokenize; sys.argv[0] = '\"'\"'C:\\\\Users\\\\Sujata\\\\AppData\\\\Local\\\\Temp\\\\pip-install-y0sta_jz\\\\matplotlib_12025cef9f1c40799d98a2ec563bb485\\\\setup.py'\"'\"'; __file__='\"'\"'C:\\\\Users\\\\Sujata\\\\AppData\\\\Local\\\\Temp\\\\pip-install-y0sta_jz\\\\matplotlib_12025cef9f1c40799d98a2ec563bb485\\\\setup.py'\"'\"';f = getattr(tokenize, '\"'\"'open'\"'\"', open)(__file__) if os.path.exists(__file__) else io.StringIO('\"'\"'from setuptools import setup; setup()'\"'\"');code = f.read().replace('\"'\"'\\r\\n'\"'\"', '\"'\"'\\n'\"'\"');f.close();exec(compile(code, __file__, '\"'\"'exec'\"'\"'))' bdist_wheel -d 'C:\\Users\\Sujata\\AppData\\Local\\Temp\\pip-wheel-incbp1sv'\n",
      "       cwd: C:\\Users\\Sujata\\AppData\\Local\\Temp\\pip-install-y0sta_jz\\matplotlib_12025cef9f1c40799d98a2ec563bb485\\\n",
      "  Complete output (499 lines):\n",
      "  ================================================================================\n",
      "  Edit setup.cfg to change the build options\n",
      "  \n",
      "  BUILDING MATPLOTLIB\n",
      "    matplotlib: yes [3.1.1]\n",
      "        python: yes [3.9.12 (main, Apr  4 2022, 05:22:27) [MSC v.1916 64 bit\n",
      "                    (AMD64)]]\n",
      "      platform: yes [win32]\n"
     ]
    },
    {
     "name": "stdout",
     "output_type": "stream",
     "text": [
      "  Using cached PDPbox-0.2.1-py3-none-any.whl\n",
      "Requirement already satisfied: psutil in c:\\software\\anaconda3\\lib\\site-packages (from pdpbox) (5.8.0)\n",
      "Requirement already satisfied: pandas in c:\\software\\anaconda3\\lib\\site-packages (from pdpbox) (1.4.2)\n",
      "Requirement already satisfied: joblib in c:\\software\\anaconda3\\lib\\site-packages (from pdpbox) (1.1.0)\n",
      "Requirement already satisfied: scipy in c:\\software\\anaconda3\\lib\\site-packages (from pdpbox) (1.7.3)\n",
      "Collecting matplotlib==3.1.1\n",
      "  Using cached matplotlib-3.1.1.tar.gz (37.8 MB)\n",
      "Requirement already satisfied: sklearn in c:\\software\\anaconda3\\lib\\site-packages (from pdpbox) (0.0.post1)\n",
      "Requirement already satisfied: numpy in c:\\software\\anaconda3\\lib\\site-packages (from pdpbox) (1.21.5)\n",
      "Requirement already satisfied: cycler>=0.10 in c:\\software\\anaconda3\\lib\\site-packages (from matplotlib==3.1.1->pdpbox) (0.11.0)\n",
      "Requirement already satisfied: kiwisolver>=1.0.1 in c:\\software\\anaconda3\\lib\\site-packages (from matplotlib==3.1.1->pdpbox) (1.3.2)\n",
      "Requirement already satisfied: pyparsing!=2.0.4,!=2.1.2,!=2.1.6,>=2.0.1 in c:\\software\\anaconda3\\lib\\site-packages (from matplotlib==3.1.1->pdpbox) (3.0.4)\n",
      "Requirement already satisfied: python-dateutil>=2.1 in c:\\software\\anaconda3\\lib\\site-packages (from matplotlib==3.1.1->pdpbox) (2.8.2)\n",
      "Requirement already satisfied: six>=1.5 in c:\\software\\anaconda3\\lib\\site-packages (from python-dateutil>=2.1->matplotlib==3.1.1->pdpbox) (1.16.0)\n",
      "Requirement already satisfied: pytz>=2020.1 in c:\\software\\anaconda3\\lib\\site-packages (from pandas->pdpbox) (2021.3)\n",
      "Building wheels for collected packages: matplotlib\n",
      "  Building wheel for matplotlib (setup.py): started\n",
      "  Building wheel for matplotlib (setup.py): finished with status 'error'\n",
      "  Running setup.py clean for matplotlib\n",
      "Failed to build matplotlib\n",
      "Installing collected packages: matplotlib, pdpbox\n",
      "    Running setup.py install for matplotlib: started\n",
      "    Running setup.py install for matplotlib: finished with status 'error'\n"
     ]
    },
    {
     "name": "stderr",
     "output_type": "stream",
     "text": [
      "  \n",
      "  OPTIONAL SUBPACKAGES\n",
      "   sample_data: yes [installing]\n",
      "         tests: no  [skipping due to configuration]\n",
      "  \n",
      "  OPTIONAL BACKEND EXTENSIONS\n",
      "           agg: yes [installing]\n",
      "         tkagg: yes [installing; run-time loading from Python Tcl/Tk]\n",
      "        macosx: no  [Mac OS-X only]\n",
      "  \n",
      "  OPTIONAL PACKAGE DATA\n",
      "          dlls: no  [skipping due to configuration]\n",
      "  \n",
      "  running bdist_wheel\n",
      "  running build\n",
      "  running build_py\n",
      "  creating build\n",
      "  creating build\\lib.win-amd64-3.9\n",
      "  copying lib\\pylab.py -> build\\lib.win-amd64-3.9\n",
      "  creating build\\lib.win-amd64-3.9\\matplotlib\n",
      "  copying lib\\matplotlib\\afm.py -> build\\lib.win-amd64-3.9\\matplotlib\n",
      "  copying lib\\matplotlib\\animation.py -> build\\lib.win-amd64-3.9\\matplotlib\n",
      "  copying lib\\matplotlib\\artist.py -> build\\lib.win-amd64-3.9\\matplotlib\n",
      "  copying lib\\matplotlib\\axis.py -> build\\lib.win-amd64-3.9\\matplotlib\n",
      "  copying lib\\matplotlib\\backend_bases.py -> build\\lib.win-amd64-3.9\\matplotlib\n",
      "  copying lib\\matplotlib\\backend_managers.py -> build\\lib.win-amd64-3.9\\matplotlib\n",
      "  copying lib\\matplotlib\\backend_tools.py -> build\\lib.win-amd64-3.9\\matplotlib\n",
      "  copying lib\\matplotlib\\bezier.py -> build\\lib.win-amd64-3.9\\matplotlib\n",
      "  copying lib\\matplotlib\\blocking_input.py -> build\\lib.win-amd64-3.9\\matplotlib\n",
      "  copying lib\\matplotlib\\category.py -> build\\lib.win-amd64-3.9\\matplotlib\n",
      "  copying lib\\matplotlib\\cm.py -> build\\lib.win-amd64-3.9\\matplotlib\n",
      "  copying lib\\matplotlib\\collections.py -> build\\lib.win-amd64-3.9\\matplotlib\n",
      "  copying lib\\matplotlib\\colorbar.py -> build\\lib.win-amd64-3.9\\matplotlib\n",
      "  copying lib\\matplotlib\\colors.py -> build\\lib.win-amd64-3.9\\matplotlib\n",
      "  copying lib\\matplotlib\\container.py -> build\\lib.win-amd64-3.9\\matplotlib\n",
      "  copying lib\\matplotlib\\contour.py -> build\\lib.win-amd64-3.9\\matplotlib\n",
      "  copying lib\\matplotlib\\dates.py -> build\\lib.win-amd64-3.9\\matplotlib\n",
      "  copying lib\\matplotlib\\docstring.py -> build\\lib.win-amd64-3.9\\matplotlib\n",
      "  copying lib\\matplotlib\\dviread.py -> build\\lib.win-amd64-3.9\\matplotlib\n",
      "  copying lib\\matplotlib\\figure.py -> build\\lib.win-amd64-3.9\\matplotlib\n",
      "  copying lib\\matplotlib\\fontconfig_pattern.py -> build\\lib.win-amd64-3.9\\matplotlib\n",
      "  copying lib\\matplotlib\\font_manager.py -> build\\lib.win-amd64-3.9\\matplotlib\n",
      "  copying lib\\matplotlib\\gridspec.py -> build\\lib.win-amd64-3.9\\matplotlib\n",
      "  copying lib\\matplotlib\\hatch.py -> build\\lib.win-amd64-3.9\\matplotlib\n",
      "  copying lib\\matplotlib\\image.py -> build\\lib.win-amd64-3.9\\matplotlib\n",
      "  copying lib\\matplotlib\\legend.py -> build\\lib.win-amd64-3.9\\matplotlib\n",
      "  copying lib\\matplotlib\\legend_handler.py -> build\\lib.win-amd64-3.9\\matplotlib\n",
      "  copying lib\\matplotlib\\lines.py -> build\\lib.win-amd64-3.9\\matplotlib\n",
      "  copying lib\\matplotlib\\markers.py -> build\\lib.win-amd64-3.9\\matplotlib\n",
      "  copying lib\\matplotlib\\mathtext.py -> build\\lib.win-amd64-3.9\\matplotlib\n",
      "  copying lib\\matplotlib\\mlab.py -> build\\lib.win-amd64-3.9\\matplotlib\n",
      "  copying lib\\matplotlib\\offsetbox.py -> build\\lib.win-amd64-3.9\\matplotlib\n",
      "  copying lib\\matplotlib\\patches.py -> build\\lib.win-amd64-3.9\\matplotlib\n",
      "  copying lib\\matplotlib\\path.py -> build\\lib.win-amd64-3.9\\matplotlib\n",
      "  copying lib\\matplotlib\\patheffects.py -> build\\lib.win-amd64-3.9\\matplotlib\n",
      "  copying lib\\matplotlib\\pylab.py -> build\\lib.win-amd64-3.9\\matplotlib\n",
      "  copying lib\\matplotlib\\pyplot.py -> build\\lib.win-amd64-3.9\\matplotlib\n",
      "  copying lib\\matplotlib\\quiver.py -> build\\lib.win-amd64-3.9\\matplotlib\n",
      "  copying lib\\matplotlib\\rcsetup.py -> build\\lib.win-amd64-3.9\\matplotlib\n",
      "  copying lib\\matplotlib\\sankey.py -> build\\lib.win-amd64-3.9\\matplotlib\n",
      "  copying lib\\matplotlib\\scale.py -> build\\lib.win-amd64-3.9\\matplotlib\n",
      "  copying lib\\matplotlib\\spines.py -> build\\lib.win-amd64-3.9\\matplotlib\n",
      "  copying lib\\matplotlib\\stackplot.py -> build\\lib.win-amd64-3.9\\matplotlib\n",
      "  copying lib\\matplotlib\\streamplot.py -> build\\lib.win-amd64-3.9\\matplotlib\n",
      "  copying lib\\matplotlib\\table.py -> build\\lib.win-amd64-3.9\\matplotlib\n",
      "  copying lib\\matplotlib\\texmanager.py -> build\\lib.win-amd64-3.9\\matplotlib\n",
      "  copying lib\\matplotlib\\text.py -> build\\lib.win-amd64-3.9\\matplotlib\n",
      "  copying lib\\matplotlib\\textpath.py -> build\\lib.win-amd64-3.9\\matplotlib\n",
      "  copying lib\\matplotlib\\ticker.py -> build\\lib.win-amd64-3.9\\matplotlib\n",
      "  copying lib\\matplotlib\\tight_bbox.py -> build\\lib.win-amd64-3.9\\matplotlib\n",
      "  copying lib\\matplotlib\\tight_layout.py -> build\\lib.win-amd64-3.9\\matplotlib\n",
      "  copying lib\\matplotlib\\transforms.py -> build\\lib.win-amd64-3.9\\matplotlib\n",
      "  copying lib\\matplotlib\\type1font.py -> build\\lib.win-amd64-3.9\\matplotlib\n",
      "  copying lib\\matplotlib\\units.py -> build\\lib.win-amd64-3.9\\matplotlib\n",
      "  copying lib\\matplotlib\\widgets.py -> build\\lib.win-amd64-3.9\\matplotlib\n",
      "  copying lib\\matplotlib\\_animation_data.py -> build\\lib.win-amd64-3.9\\matplotlib\n",
      "  copying lib\\matplotlib\\_cm.py -> build\\lib.win-amd64-3.9\\matplotlib\n",
      "  copying lib\\matplotlib\\_cm_listed.py -> build\\lib.win-amd64-3.9\\matplotlib\n",
      "  copying lib\\matplotlib\\_color_data.py -> build\\lib.win-amd64-3.9\\matplotlib\n",
      "  copying lib\\matplotlib\\_constrained_layout.py -> build\\lib.win-amd64-3.9\\matplotlib\n",
      "  copying lib\\matplotlib\\_layoutbox.py -> build\\lib.win-amd64-3.9\\matplotlib\n",
      "  copying lib\\matplotlib\\_mathtext_data.py -> build\\lib.win-amd64-3.9\\matplotlib\n",
      "  copying lib\\matplotlib\\_pylab_helpers.py -> build\\lib.win-amd64-3.9\\matplotlib\n",
      "  copying lib\\matplotlib\\_version.py -> build\\lib.win-amd64-3.9\\matplotlib\n",
      "  copying lib\\matplotlib\\__init__.py -> build\\lib.win-amd64-3.9\\matplotlib\n",
      "  creating build\\lib.win-amd64-3.9\\mpl_toolkits\n",
      "  copying lib\\mpl_toolkits\\__init__.py -> build\\lib.win-amd64-3.9\\mpl_toolkits\n",
      "  creating build\\lib.win-amd64-3.9\\matplotlib\\axes\n",
      "  copying lib\\matplotlib\\axes\\_axes.py -> build\\lib.win-amd64-3.9\\matplotlib\\axes\n",
      "  copying lib\\matplotlib\\axes\\_base.py -> build\\lib.win-amd64-3.9\\matplotlib\\axes\n",
      "  copying lib\\matplotlib\\axes\\_secondary_axes.py -> build\\lib.win-amd64-3.9\\matplotlib\\axes\n",
      "  copying lib\\matplotlib\\axes\\_subplots.py -> build\\lib.win-amd64-3.9\\matplotlib\\axes\n",
      "  copying lib\\matplotlib\\axes\\__init__.py -> build\\lib.win-amd64-3.9\\matplotlib\\axes\n",
      "  creating build\\lib.win-amd64-3.9\\matplotlib\\backends\n",
      "  copying lib\\matplotlib\\backends\\backend_agg.py -> build\\lib.win-amd64-3.9\\matplotlib\\backends\n",
      "  copying lib\\matplotlib\\backends\\backend_cairo.py -> build\\lib.win-amd64-3.9\\matplotlib\\backends\n",
      "  copying lib\\matplotlib\\backends\\backend_gtk3.py -> build\\lib.win-amd64-3.9\\matplotlib\\backends\n",
      "  copying lib\\matplotlib\\backends\\backend_gtk3agg.py -> build\\lib.win-amd64-3.9\\matplotlib\\backends\n",
      "  copying lib\\matplotlib\\backends\\backend_gtk3cairo.py -> build\\lib.win-amd64-3.9\\matplotlib\\backends\n",
      "  copying lib\\matplotlib\\backends\\backend_macosx.py -> build\\lib.win-amd64-3.9\\matplotlib\\backends\n",
      "  copying lib\\matplotlib\\backends\\backend_mixed.py -> build\\lib.win-amd64-3.9\\matplotlib\\backends\n",
      "  copying lib\\matplotlib\\backends\\backend_nbagg.py -> build\\lib.win-amd64-3.9\\matplotlib\\backends\n",
      "  copying lib\\matplotlib\\backends\\backend_pdf.py -> build\\lib.win-amd64-3.9\\matplotlib\\backends\n",
      "  copying lib\\matplotlib\\backends\\backend_pgf.py -> build\\lib.win-amd64-3.9\\matplotlib\\backends\n",
      "  copying lib\\matplotlib\\backends\\backend_ps.py -> build\\lib.win-amd64-3.9\\matplotlib\\backends\n",
      "  copying lib\\matplotlib\\backends\\backend_qt4.py -> build\\lib.win-amd64-3.9\\matplotlib\\backends\n",
      "  copying lib\\matplotlib\\backends\\backend_qt4agg.py -> build\\lib.win-amd64-3.9\\matplotlib\\backends\n",
      "  copying lib\\matplotlib\\backends\\backend_qt4cairo.py -> build\\lib.win-amd64-3.9\\matplotlib\\backends\n",
      "  copying lib\\matplotlib\\backends\\backend_qt5.py -> build\\lib.win-amd64-3.9\\matplotlib\\backends\n",
      "  copying lib\\matplotlib\\backends\\backend_qt5agg.py -> build\\lib.win-amd64-3.9\\matplotlib\\backends\n",
      "  copying lib\\matplotlib\\backends\\backend_qt5cairo.py -> build\\lib.win-amd64-3.9\\matplotlib\\backends\n",
      "  copying lib\\matplotlib\\backends\\backend_svg.py -> build\\lib.win-amd64-3.9\\matplotlib\\backends\n",
      "  copying lib\\matplotlib\\backends\\backend_template.py -> build\\lib.win-amd64-3.9\\matplotlib\\backends\n",
      "  copying lib\\matplotlib\\backends\\backend_tkagg.py -> build\\lib.win-amd64-3.9\\matplotlib\\backends\n",
      "  copying lib\\matplotlib\\backends\\backend_tkcairo.py -> build\\lib.win-amd64-3.9\\matplotlib\\backends\n",
      "  copying lib\\matplotlib\\backends\\backend_webagg.py -> build\\lib.win-amd64-3.9\\matplotlib\\backends\n",
      "  copying lib\\matplotlib\\backends\\backend_webagg_core.py -> build\\lib.win-amd64-3.9\\matplotlib\\backends\n",
      "  copying lib\\matplotlib\\backends\\backend_wx.py -> build\\lib.win-amd64-3.9\\matplotlib\\backends\n",
      "  copying lib\\matplotlib\\backends\\backend_wxagg.py -> build\\lib.win-amd64-3.9\\matplotlib\\backends\n",
      "  copying lib\\matplotlib\\backends\\backend_wxcairo.py -> build\\lib.win-amd64-3.9\\matplotlib\\backends\n",
      "  copying lib\\matplotlib\\backends\\qt_compat.py -> build\\lib.win-amd64-3.9\\matplotlib\\backends\n",
      "  copying lib\\matplotlib\\backends\\tkagg.py -> build\\lib.win-amd64-3.9\\matplotlib\\backends\n",
      "  copying lib\\matplotlib\\backends\\windowing.py -> build\\lib.win-amd64-3.9\\matplotlib\\backends\n",
      "  copying lib\\matplotlib\\backends\\wx_compat.py -> build\\lib.win-amd64-3.9\\matplotlib\\backends\n",
      "  copying lib\\matplotlib\\backends\\_backend_pdf_ps.py -> build\\lib.win-amd64-3.9\\matplotlib\\backends\n",
      "  copying lib\\matplotlib\\backends\\_backend_tk.py -> build\\lib.win-amd64-3.9\\matplotlib\\backends\n",
      "  copying lib\\matplotlib\\backends\\__init__.py -> build\\lib.win-amd64-3.9\\matplotlib\\backends\n",
      "  creating build\\lib.win-amd64-3.9\\matplotlib\\cbook\n",
      "  copying lib\\matplotlib\\cbook\\deprecation.py -> build\\lib.win-amd64-3.9\\matplotlib\\cbook\n",
      "  copying lib\\matplotlib\\cbook\\__init__.py -> build\\lib.win-amd64-3.9\\matplotlib\\cbook\n",
      "  creating build\\lib.win-amd64-3.9\\matplotlib\\compat\n",
      "  copying lib\\matplotlib\\compat\\subprocess.py -> build\\lib.win-amd64-3.9\\matplotlib\\compat\n",
      "  copying lib\\matplotlib\\compat\\__init__.py -> build\\lib.win-amd64-3.9\\matplotlib\\compat\n",
      "  creating build\\lib.win-amd64-3.9\\matplotlib\\projections\n",
      "  copying lib\\matplotlib\\projections\\geo.py -> build\\lib.win-amd64-3.9\\matplotlib\\projections\n",
      "  copying lib\\matplotlib\\projections\\polar.py -> build\\lib.win-amd64-3.9\\matplotlib\\projections\n",
      "  copying lib\\matplotlib\\projections\\__init__.py -> build\\lib.win-amd64-3.9\\matplotlib\\projections\n",
      "  creating build\\lib.win-amd64-3.9\\matplotlib\\sphinxext\n",
      "  copying lib\\matplotlib\\sphinxext\\mathmpl.py -> build\\lib.win-amd64-3.9\\matplotlib\\sphinxext\n",
      "  copying lib\\matplotlib\\sphinxext\\plot_directive.py -> build\\lib.win-amd64-3.9\\matplotlib\\sphinxext\n",
      "  copying lib\\matplotlib\\sphinxext\\__init__.py -> build\\lib.win-amd64-3.9\\matplotlib\\sphinxext\n",
      "  creating build\\lib.win-amd64-3.9\\matplotlib\\style\n",
      "  copying lib\\matplotlib\\style\\core.py -> build\\lib.win-amd64-3.9\\matplotlib\\style\n",
      "  copying lib\\matplotlib\\style\\__init__.py -> build\\lib.win-amd64-3.9\\matplotlib\\style\n",
      "  creating build\\lib.win-amd64-3.9\\matplotlib\\testing\n",
      "  copying lib\\matplotlib\\testing\\compare.py -> build\\lib.win-amd64-3.9\\matplotlib\\testing\n",
      "  copying lib\\matplotlib\\testing\\conftest.py -> build\\lib.win-amd64-3.9\\matplotlib\\testing\n",
      "  copying lib\\matplotlib\\testing\\decorators.py -> build\\lib.win-amd64-3.9\\matplotlib\\testing\n",
      "  copying lib\\matplotlib\\testing\\determinism.py -> build\\lib.win-amd64-3.9\\matplotlib\\testing\n",
      "  copying lib\\matplotlib\\testing\\disable_internet.py -> build\\lib.win-amd64-3.9\\matplotlib\\testing\n",
      "  copying lib\\matplotlib\\testing\\exceptions.py -> build\\lib.win-amd64-3.9\\matplotlib\\testing\n",
      "  copying lib\\matplotlib\\testing\\__init__.py -> build\\lib.win-amd64-3.9\\matplotlib\\testing\n",
      "  creating build\\lib.win-amd64-3.9\\matplotlib\\tri\n",
      "  copying lib\\matplotlib\\tri\\triangulation.py -> build\\lib.win-amd64-3.9\\matplotlib\\tri\n",
      "  copying lib\\matplotlib\\tri\\tricontour.py -> build\\lib.win-amd64-3.9\\matplotlib\\tri\n",
      "  copying lib\\matplotlib\\tri\\trifinder.py -> build\\lib.win-amd64-3.9\\matplotlib\\tri\n",
      "  copying lib\\matplotlib\\tri\\triinterpolate.py -> build\\lib.win-amd64-3.9\\matplotlib\\tri\n",
      "  copying lib\\matplotlib\\tri\\tripcolor.py -> build\\lib.win-amd64-3.9\\matplotlib\\tri\n",
      "  copying lib\\matplotlib\\tri\\triplot.py -> build\\lib.win-amd64-3.9\\matplotlib\\tri\n",
      "  copying lib\\matplotlib\\tri\\trirefine.py -> build\\lib.win-amd64-3.9\\matplotlib\\tri\n",
      "  copying lib\\matplotlib\\tri\\tritools.py -> build\\lib.win-amd64-3.9\\matplotlib\\tri\n",
      "  copying lib\\matplotlib\\tri\\__init__.py -> build\\lib.win-amd64-3.9\\matplotlib\\tri\n",
      "  creating build\\lib.win-amd64-3.9\\matplotlib\\backends\\qt_editor\n",
      "  copying lib\\matplotlib\\backends\\qt_editor\\figureoptions.py -> build\\lib.win-amd64-3.9\\matplotlib\\backends\\qt_editor\n",
      "  copying lib\\matplotlib\\backends\\qt_editor\\formlayout.py -> build\\lib.win-amd64-3.9\\matplotlib\\backends\\qt_editor\n",
      "  copying lib\\matplotlib\\backends\\qt_editor\\formsubplottool.py -> build\\lib.win-amd64-3.9\\matplotlib\\backends\\qt_editor\n",
      "  copying lib\\matplotlib\\backends\\qt_editor\\_formlayout.py -> build\\lib.win-amd64-3.9\\matplotlib\\backends\\qt_editor\n",
      "  copying lib\\matplotlib\\backends\\qt_editor\\__init__.py -> build\\lib.win-amd64-3.9\\matplotlib\\backends\\qt_editor\n",
      "  creating build\\lib.win-amd64-3.9\\matplotlib\\testing\\jpl_units\n",
      "  copying lib\\matplotlib\\testing\\jpl_units\\Duration.py -> build\\lib.win-amd64-3.9\\matplotlib\\testing\\jpl_units\n",
      "  copying lib\\matplotlib\\testing\\jpl_units\\Epoch.py -> build\\lib.win-amd64-3.9\\matplotlib\\testing\\jpl_units\n",
      "  copying lib\\matplotlib\\testing\\jpl_units\\EpochConverter.py -> build\\lib.win-amd64-3.9\\matplotlib\\testing\\jpl_units\n",
      "  copying lib\\matplotlib\\testing\\jpl_units\\StrConverter.py -> build\\lib.win-amd64-3.9\\matplotlib\\testing\\jpl_units\n",
      "  copying lib\\matplotlib\\testing\\jpl_units\\UnitDbl.py -> build\\lib.win-amd64-3.9\\matplotlib\\testing\\jpl_units\n",
      "  copying lib\\matplotlib\\testing\\jpl_units\\UnitDblConverter.py -> build\\lib.win-amd64-3.9\\matplotlib\\testing\\jpl_units\n",
      "  copying lib\\matplotlib\\testing\\jpl_units\\UnitDblFormatter.py -> build\\lib.win-amd64-3.9\\matplotlib\\testing\\jpl_units\n",
      "  copying lib\\matplotlib\\testing\\jpl_units\\__init__.py -> build\\lib.win-amd64-3.9\\matplotlib\\testing\\jpl_units\n",
      "  creating build\\lib.win-amd64-3.9\\mpl_toolkits\\axes_grid\n",
      "  copying lib\\mpl_toolkits\\axes_grid\\anchored_artists.py -> build\\lib.win-amd64-3.9\\mpl_toolkits\\axes_grid\n",
      "  copying lib\\mpl_toolkits\\axes_grid\\angle_helper.py -> build\\lib.win-amd64-3.9\\mpl_toolkits\\axes_grid\n",
      "  copying lib\\mpl_toolkits\\axes_grid\\axes_divider.py -> build\\lib.win-amd64-3.9\\mpl_toolkits\\axes_grid\n",
      "  copying lib\\mpl_toolkits\\axes_grid\\axes_grid.py -> build\\lib.win-amd64-3.9\\mpl_toolkits\\axes_grid\n",
      "  copying lib\\mpl_toolkits\\axes_grid\\axes_rgb.py -> build\\lib.win-amd64-3.9\\mpl_toolkits\\axes_grid\n",
      "  copying lib\\mpl_toolkits\\axes_grid\\axes_size.py -> build\\lib.win-amd64-3.9\\mpl_toolkits\\axes_grid\n",
      "  copying lib\\mpl_toolkits\\axes_grid\\axislines.py -> build\\lib.win-amd64-3.9\\mpl_toolkits\\axes_grid\n",
      "  copying lib\\mpl_toolkits\\axes_grid\\axisline_style.py -> build\\lib.win-amd64-3.9\\mpl_toolkits\\axes_grid\n",
      "  copying lib\\mpl_toolkits\\axes_grid\\axis_artist.py -> build\\lib.win-amd64-3.9\\mpl_toolkits\\axes_grid\n",
      "  copying lib\\mpl_toolkits\\axes_grid\\clip_path.py -> build\\lib.win-amd64-3.9\\mpl_toolkits\\axes_grid\n",
      "  copying lib\\mpl_toolkits\\axes_grid\\colorbar.py -> build\\lib.win-amd64-3.9\\mpl_toolkits\\axes_grid\n",
      "  copying lib\\mpl_toolkits\\axes_grid\\floating_axes.py -> build\\lib.win-amd64-3.9\\mpl_toolkits\\axes_grid"
     ]
    }
   ],
   "source": [
    "! pip install pdpbox"
   ]
  },
  {
   "cell_type": "markdown",
   "metadata": {},
   "source": [
    "While we encourage you to read the documentation for the package (and reading package documentation in general is a good habit to develop), the authors of the package have also written an excellent blog post on how to use it, showing examples on different algorithms from scikit-learn (the Random Forests example is towards the end of the blog post): https://briangriner.github.io/Partial_Dependence_Plots_presentation-BrianGriner-PrincetonPublicLibrary-4.14.18-updated-4.22.18.html"
   ]
  },
  {
   "cell_type": "markdown",
   "metadata": {},
   "source": [
    "So, armed with this new knowledge, feel free to pick a few features, and make a couple of Partial Dependence Plots of your own!"
   ]
  },
  {
   "cell_type": "code",
   "execution_count": null,
   "metadata": {},
   "outputs": [],
   "source": [
    "# Your code here!"
   ]
  },
  {
   "cell_type": "markdown",
   "metadata": {},
   "source": [
    "## (Optional) Advanced Boosting-Based Algorithms"
   ]
  },
  {
   "cell_type": "markdown",
   "metadata": {},
   "source": [
    "As explained in the video lectures, the next generation of algorithms after Random Forests (that use Bagging, a.k.a. Bootstrap Aggregation) were developed using Boosting, and the first one of these were Gradient Boosted Machines, which are implemented in scikit-learn (http://scikit-learn.org/stable/modules/ensemble.html#gradient-tree-boosting)."
   ]
  },
  {
   "cell_type": "markdown",
   "metadata": {},
   "source": [
    "Still, in recent years, a number of variations on GBMs have been developed by different research amd industry groups, all of them bringing improvements, both in speed, accuracy and functionality to the original Gradient Boosting algorithms.\n",
    "\n",
    "In no order of preference, these are:\n",
    "1. **XGBoost**: https://xgboost.readthedocs.io/en/latest/\n",
    "2. **CatBoost**: https://tech.yandex.com/catboost/\n",
    "3. **LightGBM**: https://lightgbm.readthedocs.io/en/latest/"
   ]
  },
  {
   "cell_type": "markdown",
   "metadata": {},
   "source": [
    "If you're using the Anaconda distribution, these are all very easy to install:"
   ]
  },
  {
   "cell_type": "code",
   "execution_count": null,
   "metadata": {},
   "outputs": [],
   "source": [
    "! conda install -c anaconda py-xgboost"
   ]
  },
  {
   "cell_type": "code",
   "execution_count": null,
   "metadata": {},
   "outputs": [],
   "source": [
    "! conda install -c conda-forge catboost"
   ]
  },
  {
   "cell_type": "code",
   "execution_count": null,
   "metadata": {},
   "outputs": [],
   "source": [
    "! conda install -c conda-forge lightgbm"
   ]
  },
  {
   "cell_type": "markdown",
   "metadata": {},
   "source": [
    "Your task in this optional section of the mini project is to read the documentation of these three libraries, and apply all of them to the \"German Credit\" dataset, just like you did in the case of Decision Trees and Random Forests."
   ]
  },
  {
   "cell_type": "markdown",
   "metadata": {},
   "source": [
    "The final deliverable of this section should be a table (can be a pandas DataFrame) which shows the accuracy of all the five algorthms taught in this mini project in one place."
   ]
  },
  {
   "cell_type": "markdown",
   "metadata": {},
   "source": [
    "Happy modeling! :)"
   ]
  },
  {
   "cell_type": "code",
   "execution_count": null,
   "metadata": {},
   "outputs": [],
   "source": []
  }
 ],
 "metadata": {
  "kernelspec": {
   "display_name": "Python 3 (ipykernel)",
   "language": "python",
   "name": "python3"
  },
  "language_info": {
   "codemirror_mode": {
    "name": "ipython",
    "version": 3
   },
   "file_extension": ".py",
   "mimetype": "text/x-python",
   "name": "python",
   "nbconvert_exporter": "python",
   "pygments_lexer": "ipython3",
   "version": "3.9.12"
  },
  "varInspector": {
   "cols": {
    "lenName": 16,
    "lenType": 16,
    "lenVar": 40
   },
   "kernels_config": {
    "python": {
     "delete_cmd_postfix": "",
     "delete_cmd_prefix": "del ",
     "library": "var_list.py",
     "varRefreshCmd": "print(var_dic_list())"
    },
    "r": {
     "delete_cmd_postfix": ") ",
     "delete_cmd_prefix": "rm(",
     "library": "var_list.r",
     "varRefreshCmd": "cat(var_dic_list()) "
    }
   },
   "types_to_exclude": [
    "module",
    "function",
    "builtin_function_or_method",
    "instance",
    "_Feature"
   ],
   "window_display": false
  }
 },
 "nbformat": 4,
 "nbformat_minor": 2
}
